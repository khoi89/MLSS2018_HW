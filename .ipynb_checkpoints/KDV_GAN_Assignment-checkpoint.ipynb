{
 "cells": [
  {
   "cell_type": "markdown",
   "metadata": {},
   "source": [
    "# TensorFlow Assignment: Playing with GANs"
   ]
  },
  {
   "cell_type": "markdown",
   "metadata": {},
   "source": [
    "**[Duke Community Standard](http://integrity.duke.edu/standard.html): By typing your name below, you are certifying that you have adhered to the Duke Community Standard in completing this assignment.**\n",
    "\n",
    "Name: "
   ]
  },
  {
   "cell_type": "markdown",
   "metadata": {},
   "source": [
    "### Interpolating between images\n",
    "\n",
    "As our “random noise” varies, so does the image our GAN generates. Perturbing the random input a little bit should perturb the image a little bit. This means that by taking small steps from one input to another, we can “animate” the transition from the image our GAN draws for the first to the one it draws for the second. Generate two random samples from a GAN, and interpolate between them (with, say, 100 steps).\n",
    "\n",
    "In particular:\n",
    "1. Train a GAN (using code from class).\n",
    "2. Generate some noise `= np.random.uniform(-1, 1, [10, 32])` (for instance).\n",
    "3. Get some fake images out using `sess.run(fake_X, {z: noise})`\n",
    "4. Visualize them using `visualize_row()` and choose two images you like (say, image 1 and 3). Pull out `start` and `end` noise vectors (e.g., `start = noise[0]` and `end = noise[2]`).\n",
    "5. Generate a list of ten vectors `steps = [..., ..., ...]`, where entry `i` is `i*10`% of the way from start to end.\n",
    "6. `np.concatenate(steps)` (with appropriate axis) to get a new noise matrix. Run the GAN on that noise matrix, and visualize the 10 images you get as results."
   ]
  },
  {
   "cell_type": "code",
   "execution_count": 1,
   "metadata": {},
   "outputs": [
    {
     "name": "stderr",
     "output_type": "stream",
     "text": [
      "/Users/KDV/anaconda3/lib/python3.6/site-packages/h5py/__init__.py:36: FutureWarning: Conversion of the second argument of issubdtype from `float` to `np.floating` is deprecated. In future, it will be treated as `np.float64 == np.dtype(float).type`.\n",
      "  from ._conv import register_converters as _register_converters\n"
     ]
    }
   ],
   "source": [
    "%matplotlib inline\n",
    "import tensorflow as tf\n",
    "import numpy as np\n",
    "import matplotlib\n",
    "import matplotlib.pyplot as plt\n",
    "import time"
   ]
  },
  {
   "cell_type": "code",
   "execution_count": 3,
   "metadata": {},
   "outputs": [
    {
     "name": "stdout",
     "output_type": "stream",
     "text": [
      "Extracting MNIST_data/train-images-idx3-ubyte.gz\n",
      "Extracting MNIST_data/train-labels-idx1-ubyte.gz\n",
      "Extracting MNIST_data/t10k-images-idx3-ubyte.gz\n",
      "Extracting MNIST_data/t10k-labels-idx1-ubyte.gz\n"
     ]
    }
   ],
   "source": [
    "from tensorflow.examples.tutorials.mnist import input_data\n",
    "mnist = input_data.read_data_sets('MNIST_data', one_hot=True)"
   ]
  },
  {
   "cell_type": "markdown",
   "metadata": {},
   "source": [
    "### Helper Functions"
   ]
  },
  {
   "cell_type": "code",
   "execution_count": 4,
   "metadata": {},
   "outputs": [],
   "source": [
    "def variables_from_scope(scope_name):\n",
    "    return tf.get_collection(tf.GraphKeys.GLOBAL_VARIABLES, scope=scope_name)\n",
    "\n",
    "def visualize_row(images, img_width=28, cmap='gray'):\n",
    "    im = np.reshape(images, [-1, img_width])\n",
    "    plt.figure()\n",
    "    plt.imshow(im, cmap=cmap)\n",
    "    plt.show()"
   ]
  },
  {
   "cell_type": "markdown",
   "metadata": {},
   "source": [
    "### Hyperparameters"
   ]
  },
  {
   "cell_type": "code",
   "execution_count": 5,
   "metadata": {},
   "outputs": [],
   "source": [
    "# Graph parameters\n",
    "epsilon_dim = 42\n",
    "hidden_dim = 256\n",
    "image_size = 784\n",
    "\n",
    "# Training parameters\n",
    "batch_size = 50\n",
    "iterations = 25000"
   ]
  },
  {
   "cell_type": "markdown",
   "metadata": {},
   "source": [
    "### Generator"
   ]
  },
  {
   "cell_type": "code",
   "execution_count": 6,
   "metadata": {},
   "outputs": [],
   "source": [
    "# Generator\n",
    "def generator(epsilon):\n",
    "    hidden_layer = tf.layers.dense(epsilon, hidden_dim, activation=tf.nn.relu)\n",
    "    out_layer = tf.layers.dense(hidden_layer, image_size, activation=tf.sigmoid)\n",
    "    return out_layer # fake image generated"
   ]
  },
  {
   "cell_type": "markdown",
   "metadata": {},
   "source": [
    "### Discriminator"
   ]
  },
  {
   "cell_type": "code",
   "execution_count": 7,
   "metadata": {},
   "outputs": [],
   "source": [
    "def discriminator(images):\n",
    "    hidden_layer = tf.layers.dense(images, hidden_dim, name=\"D1\", activation=tf.nn.relu)\n",
    "    out_layer = tf.layers.dense(hidden_layer, 1, name=\"D2\", activation=tf.sigmoid)\n",
    "    return out_layer"
   ]
  },
  {
   "cell_type": "markdown",
   "metadata": {},
   "source": [
    "### Building the Graph"
   ]
  },
  {
   "cell_type": "code",
   "execution_count": 8,
   "metadata": {},
   "outputs": [],
   "source": [
    "tf.reset_default_graph()\n",
    "\n",
    "# Placeholders\n",
    "inputs_g = tf.placeholder(tf.float32, [None, epsilon_dim])\n",
    "inputs_d = tf.placeholder(tf.float32, [None, image_size])\n",
    "\n",
    "# Generator\n",
    "with tf.variable_scope(\"generator\") as scope:\n",
    "    gen_image = generator(inputs_g)\n",
    "\n",
    "# Discriminator\n",
    "with tf.variable_scope(\"discriminator\") as scope:\n",
    "    d_fake = discriminator(gen_image)\n",
    "    scope.reuse_variables()\n",
    "    d_real = discriminator(inputs_d)\n",
    "\n",
    "g_loss = -tf.reduce_mean(tf.log(d_fake))\n",
    "d_loss = -tf.reduce_mean(tf.log(d_real) + tf.log(1. - d_fake))\n",
    "\n",
    "optimize_d = tf.train.AdamOptimizer().minimize(d_loss, var_list=variables_from_scope(\"discriminator\"))\n",
    "optimize_g = tf.train.AdamOptimizer().minimize(g_loss, var_list=variables_from_scope(\"generator\"))\n",
    "\n",
    "initialize_all = tf.global_variables_initializer()"
   ]
  },
  {
   "cell_type": "code",
   "execution_count": 9,
   "metadata": {},
   "outputs": [],
   "source": [
    "# Train the GAN.\n",
    "def make_noise():\n",
    "    return np.random.uniform(-1.0, 1.0, [batch_size, epsilon_dim])\n",
    "\n",
    "def next_feed_dict():\n",
    "    return {inputs_d: mnist.train.next_batch(batch_size)[0],\n",
    "            inputs_g: make_noise()}\n",
    "\n",
    "sess = tf.Session()\n",
    "sess.run(initialize_all)\n",
    "\n",
    "start_time = time.time()\n",
    "for t in range(iterations):\n",
    "    sess.run(optimize_g, feed_dict=next_feed_dict())\n",
    "    _, _, loss, fake_data = sess.run([optimize_g, optimize_d, d_loss, gen_image], feed_dict=next_feed_dict())"
   ]
  },
  {
   "cell_type": "code",
   "execution_count": 10,
   "metadata": {},
   "outputs": [
    {
     "data": {
      "image/png": "[encoded data removed]",
      "text/plain": [
       "<Figure size 432x432 with 1 Axes>"
      ]
     },
     "metadata": {},
     "output_type": "display_data"
    }
   ],
   "source": [
    "# Testing\n",
    "# Generate images from noise, using the generator network.\n",
    "n = 6\n",
    "canvas = np.empty((28 * n, 28 * n))\n",
    "for i in range(n):\n",
    "    # Noise input.\n",
    "    z = np.random.uniform(-1., 1., size=[n, epsilon_dim])\n",
    "    # Generate image from noise.\n",
    "    g = sess.run(gen_image, feed_dict={inputs_g: z})\n",
    "    # Reverse colours for better display\n",
    "    g = -1 * (g - 1)\n",
    "    for j in range(n):\n",
    "        # Draw the generated digits\n",
    "        canvas[i * 28:(i + 1) * 28, j * 28:(j + 1) * 28] = g[j].reshape([28, 28])\n",
    "\n",
    "plt.figure(figsize=(n, n))\n",
    "plt.imshow(canvas, origin=\"upper\", cmap=\"gray\")\n",
    "plt.show()"
   ]
  },
  {
   "cell_type": "code",
   "execution_count": 15,
   "metadata": {},
   "outputs": [],
   "source": [
    "z = np.random.uniform(-1., 1., size=[10, epsilon_dim])\n",
    "z_single = np.random.uniform(-1., 1., size=[1, epsilon_dim])\n",
    "g = sess.run(gen_image, feed_dict={inputs_g: z})\n",
    "\n",
    "start = z[0]\n",
    "end = z[2]\n",
    "z_range = end-start\n",
    "z_single[0] = z_range\n",
    "\n",
    "for i in range(10):\n",
    "    z[i] = i*(.1*z_range)\n",
    "\n",
    "g_1 = sess.run(gen_image, feed_dict={inputs_g: z_single})\n",
    "g_2 = sess.run(gen_image, feed_dict={inputs_g: z})\n",
    "\n",
    "g_1 = -1 * (g_1 - 1)\n",
    "g_2 = -1 * (g_2 - 1)"
   ]
  },
  {
   "cell_type": "code",
   "execution_count": 16,
   "metadata": {},
   "outputs": [
    {
     "data": {
      "image/png": "[encoded data removed]",
      "text/plain": [
       "<Figure size 432x288 with 1 Axes>"
      ]
     },
     "metadata": {},
     "output_type": "display_data"
    },
    {
     "data": {
      "image/png": "[encoded data removed]",
      "text/plain": [
       "<Figure size 432x288 with 1 Axes>"
      ]
     },
     "metadata": {},
     "output_type": "display_data"
    }
   ],
   "source": [
    "visualize_row(g_1)\n",
    "visualize_row(g_2[:10])"
   ]
  },
  {
   "cell_type": "markdown",
   "metadata": {},
   "source": [
    "### Conditioning on the class label"
   ]
  },
  {
   "cell_type": "markdown",
   "metadata": {},
   "source": [
    "In class, we drew a random noise vector $z$, and passed it into the Generator. This gave us very little control over the images we generated. Suppose we wanted to be able to generate a random image of a two, or of a three. In other words, we want to train the model to know how to draw whatever digit we tell it to. How could you alter the training procedure to make this work? Implement a conditional GAN, and use it to generate twos or threes.\n",
    "\n",
    "In particular,\n",
    "\n",
    "1. Modify the code from class to take placeholder inputs (real images and z values) that are 10 elements longer.\n",
    "2. Modify the next_feed_dict to concatenate labels (one-hot, ten-dimensional) to the noise inputs and image inputs.\n",
    "3. Train the GAN.\n",
    "4. Try making the GAN generate a few ones, then a few threes, by concatenating `[0, 1, 0, 0, 0, 0, 0, 0, 0, 0]` or `[0, 0, 0, 1, 0, 0, 0, 0, 0, 0]`, say, to your noise vectors. How does it do?"
   ]
  },
  {
   "cell_type": "code",
   "execution_count": null,
   "metadata": {},
   "outputs": [],
   "source": [
    "# Train the GAN.\n",
    "def make_noise():\n",
    "    z = np.random.uniform(-1.0, 1.0, [batch_size, epsilon_dim])\n",
    "\n",
    "def next_feed_dict():\n",
    "    return {inputs_d: mnist.train.next_batch(batch_size)[0],\n",
    "            labels: mnist.train.next_batch(batch_size)[1],\n",
    "            inputs_g: make_noise(labels)}\n",
    "\n",
    "sess = tf.Session()\n",
    "sess.run(initialize_all)\n",
    "\n",
    "start_time = time.time()\n",
    "for t in range(iterations):\n",
    "    sess.run(optimize_g, feed_dict=next_feed_dict())\n",
    "    _, _, loss, fake_data = sess.run([optimize_g, optimize_d, d_loss, gen_image], feed_dict=next_feed_dict())"
   ]
  },
  {
   "cell_type": "code",
   "execution_count": 30,
   "metadata": {},
   "outputs": [
    {
     "data": {
      "image/png": "[encoded data removed]",
      "text/plain": [
       "<Figure size 432x288 with 1 Axes>"
      ]
     },
     "metadata": {},
     "output_type": "display_data"
    }
   ],
   "source": [
    "z = np.random.uniform(-1., 1., size=[6, epsilon_dim])\n",
    "for i in range(3):\n",
    "    z[i][32:] = [1.,0.,0.,0.,0.,0.,0.,0.,0.,0.]\n",
    "for i in range(3):\n",
    "    z[i+3][32:] = [0.,0.,1.,0.,0.,0.,0.,0.,0.,0.]    \n",
    "    \n",
    "g = sess.run(gen_image, feed_dict={inputs_g: z})\n",
    "g = -1 * (g - 1)\n",
    "visualize_row(g[:10])"
   ]
  },
  {
   "cell_type": "code",
   "execution_count": 25,
   "metadata": {},
   "outputs": [
    {
     "data": {
      "text/plain": [
       "array([[ 0.28195873, -0.77511608, -0.60800135, -0.15189632,  0.12031597,\n",
       "        -0.07856146,  0.28956573,  0.90588271, -0.02694746,  0.18161026,\n",
       "         0.27626091,  0.95662052, -0.65116421,  0.61453116,  0.37964054,\n",
       "        -0.85747667,  0.95812212, -0.35643402,  0.84144385, -0.61325607,\n",
       "        -0.63978218, -0.3642597 ,  0.83320505,  0.23455615,  0.82585252,\n",
       "        -0.9368245 ,  0.10512556,  0.3096483 , -0.83914469, -0.39708332,\n",
       "         0.81111166, -0.58890583,  1.        ,  0.        ,  0.        ,\n",
       "         0.        ,  0.        ,  0.        ,  0.        ,  0.        ,\n",
       "         0.        ,  0.        ],\n",
       "       [ 0.16754875,  0.18133879,  0.69135163,  0.59470762,  0.70296213,\n",
       "         0.97100644,  0.73406793,  0.06192331,  0.72751272, -0.0609229 ,\n",
       "        -0.47460314,  0.81243753,  0.93508245,  0.09023183,  0.54252384,\n",
       "        -0.14151837,  0.40972423, -0.28981755, -0.62030357, -0.51252127,\n",
       "         0.64669666,  0.91982354, -0.10813902, -0.80674676,  0.95611246,\n",
       "         0.46476915,  0.88302794,  0.70537679,  0.70840777, -0.8653757 ,\n",
       "        -0.17244207, -0.79655024,  1.        ,  0.        ,  0.        ,\n",
       "         0.        ,  0.        ,  0.        ,  0.        ,  0.        ,\n",
       "         0.        ,  0.        ],\n",
       "       [ 0.46835598,  0.7639203 ,  0.723982  ,  0.23207066, -0.11426912,\n",
       "        -0.16650896, -0.5206293 ,  0.43378   , -0.49916129, -0.59863313,\n",
       "         0.18267332, -0.21859043,  0.47671518, -0.86206811,  0.43647591,\n",
       "         0.68615837, -0.32798668, -0.63729926,  0.14301366,  0.70989018,\n",
       "        -0.15011034,  0.2941924 , -0.26152586, -0.26607008, -0.12645809,\n",
       "        -0.26831007, -0.50586354,  0.22055442,  0.7473013 ,  0.33201885,\n",
       "        -0.0049462 , -0.17025937,  1.        ,  0.        ,  0.        ,\n",
       "         0.        ,  0.        ,  0.        ,  0.        ,  0.        ,\n",
       "         0.        ,  0.        ],\n",
       "       [ 0.90059781,  0.74502958, -0.00499423,  0.31051399, -0.07865517,\n",
       "         0.34155845, -0.34701951, -0.14296678,  0.87975977, -0.58557214,\n",
       "         0.12984475, -0.38607355, -0.89924436, -0.07397027, -0.09712735,\n",
       "        -0.8499055 , -0.36538218, -0.33297482, -0.52583586, -0.36719   ,\n",
       "        -0.59195969, -0.46930086, -0.63015056, -0.53977313,  0.23453775,\n",
       "        -0.97181722, -0.67548927,  0.38394494,  0.47914521, -0.41992291,\n",
       "         0.95501224, -0.01011038,  0.        ,  0.        ,  1.        ,\n",
       "         0.        ,  0.        ,  0.        ,  0.        ,  0.        ,\n",
       "         0.        ,  0.        ],\n",
       "       [ 0.33222849,  0.56949712,  0.34793209, -0.43482327, -0.98896909,\n",
       "         0.98476913,  0.19692779, -0.28296065, -0.35297814,  0.7707217 ,\n",
       "         0.63299892, -0.71243965, -0.54846458,  0.2813543 ,  0.70349867,\n",
       "         0.66057618, -0.87441797, -0.85832431, -0.6162598 ,  0.3178906 ,\n",
       "        -0.67246026, -0.53397593, -0.54463315, -0.00429624,  0.40324155,\n",
       "        -0.91203068,  0.78119046,  0.01093933,  0.1447578 ,  0.41855623,\n",
       "         0.25084673, -0.89117923,  0.        ,  0.        ,  1.        ,\n",
       "         0.        ,  0.        ,  0.        ,  0.        ,  0.        ,\n",
       "         0.        ,  0.        ],\n",
       "       [ 0.02335925,  0.25079726,  0.65654953,  0.48098867,  0.14849337,\n",
       "         0.75102624, -0.12031562, -0.88989367,  0.70618497,  0.29965533,\n",
       "        -0.23067833, -0.82018166, -0.36710235, -0.76893564, -0.16729473,\n",
       "        -0.02363282, -0.2519869 ,  0.73595099,  0.39934587, -0.01756614,\n",
       "        -0.40795149, -0.78283171,  0.94930399, -0.55483022,  0.88482293,\n",
       "         0.39377424, -0.98841408,  0.39967866,  0.68571954,  0.31781276,\n",
       "        -0.42158264, -0.29310649,  0.        ,  0.        ,  1.        ,\n",
       "         0.        ,  0.        ,  0.        ,  0.        ,  0.        ,\n",
       "         0.        ,  0.        ]])"
      ]
     },
     "execution_count": 25,
     "metadata": {},
     "output_type": "execute_result"
    }
   ],
   "source": [
    "z"
   ]
  },
  {
   "cell_type": "code",
   "execution_count": null,
   "metadata": {},
   "outputs": [],
   "source": []
  }
 ],
 "metadata": {
  "kernelspec": {
   "display_name": "Python 3",
   "language": "python",
   "name": "python3"
  },
  "language_info": {
   "codemirror_mode": {
    "name": "ipython",
    "version": 3
   },
   "file_extension": ".py",
   "mimetype": "text/x-python",
   "name": "python",
   "nbconvert_exporter": "python",
   "pygments_lexer": "ipython3",
   "version": "3.6.5"
  }
 },
 "nbformat": 4,
 "nbformat_minor": 2
}
