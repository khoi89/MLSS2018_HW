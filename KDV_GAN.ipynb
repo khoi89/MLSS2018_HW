{
 "cells": [
  {
   "cell_type": "markdown",
   "metadata": {},
   "source": [
    "# TensorFlow Assignment: Playing with GANs"
   ]
  },
  {
   "cell_type": "markdown",
   "metadata": {},
   "source": [
    "**[Duke Community Standard](http://integrity.duke.edu/standard.html): By typing your name below, you are certifying that you have adhered to the Duke Community Standard in completing this assignment.**\n",
    "\n",
    "Name: Khoi D. Vo </br>\n",
    "Date: June 29, 2018"
   ]
  },
  {
   "cell_type": "markdown",
   "metadata": {},
   "source": [
    "### Interpolating between images\n",
    "\n",
    "As our “random noise” varies, so does the image our GAN generates. Perturbing the random input a little bit should perturb the image a little bit. This means that by taking small steps from one input to another, we can “animate” the transition from the image our GAN draws for the first to the one it draws for the second. Generate two random samples from a GAN, and interpolate between them (with, say, 100 steps).\n",
    "\n",
    "In particular:\n",
    "1. Train a GAN (using code from class).\n",
    "2. Generate some noise `= np.random.uniform(-1, 1, [10, 32])` (for instance).\n",
    "3. Get some fake images out using `sess.run(fake_X, {z: noise})`\n",
    "4. Visualize them using `visualize_row()` and choose two images you like (say, image 1 and 3). Pull out `start` and `end` noise vectors (e.g., `start = noise[0]` and `end = noise[2]`).\n",
    "5. Generate a list of ten vectors `steps = [..., ..., ...]`, where entry `i` is `i*10`% of the way from start to end.\n",
    "6. `np.concatenate(steps)` (with appropriate axis) to get a new noise matrix. Run the GAN on that noise matrix, and visualize the 10 images you get as results."
   ]
  },
  {
   "cell_type": "code",
   "execution_count": 1,
   "metadata": {},
   "outputs": [
    {
     "name": "stderr",
     "output_type": "stream",
     "text": [
      "/Users/KDV/anaconda3/lib/python3.6/site-packages/h5py/__init__.py:36: FutureWarning: Conversion of the second argument of issubdtype from `float` to `np.floating` is deprecated. In future, it will be treated as `np.float64 == np.dtype(float).type`.\n",
      "  from ._conv import register_converters as _register_converters\n"
     ]
    }
   ],
   "source": [
    "%matplotlib inline\n",
    "import tensorflow as tf\n",
    "import numpy as np\n",
    "import matplotlib\n",
    "import matplotlib.pyplot as plt\n",
    "import time"
   ]
  },
  {
   "cell_type": "code",
   "execution_count": 2,
   "metadata": {},
   "outputs": [
    {
     "name": "stdout",
     "output_type": "stream",
     "text": [
      "WARNING:tensorflow:From <ipython-input-2-93d8da72a918>:2: read_data_sets (from tensorflow.contrib.learn.python.learn.datasets.mnist) is deprecated and will be removed in a future version.\n",
      "Instructions for updating:\n",
      "Please use alternatives such as official/mnist/dataset.py from tensorflow/models.\n",
      "WARNING:tensorflow:From /Users/KDV/anaconda3/lib/python3.6/site-packages/tensorflow/contrib/learn/python/learn/datasets/mnist.py:260: maybe_download (from tensorflow.contrib.learn.python.learn.datasets.base) is deprecated and will be removed in a future version.\n",
      "Instructions for updating:\n",
      "Please write your own downloading logic.\n",
      "WARNING:tensorflow:From /Users/KDV/anaconda3/lib/python3.6/site-packages/tensorflow/contrib/learn/python/learn/datasets/mnist.py:262: extract_images (from tensorflow.contrib.learn.python.learn.datasets.mnist) is deprecated and will be removed in a future version.\n",
      "Instructions for updating:\n",
      "Please use tf.data to implement this functionality.\n",
      "Extracting MNIST_data/train-images-idx3-ubyte.gz\n",
      "WARNING:tensorflow:From /Users/KDV/anaconda3/lib/python3.6/site-packages/tensorflow/contrib/learn/python/learn/datasets/mnist.py:267: extract_labels (from tensorflow.contrib.learn.python.learn.datasets.mnist) is deprecated and will be removed in a future version.\n",
      "Instructions for updating:\n",
      "Please use tf.data to implement this functionality.\n",
      "Extracting MNIST_data/train-labels-idx1-ubyte.gz\n",
      "WARNING:tensorflow:From /Users/KDV/anaconda3/lib/python3.6/site-packages/tensorflow/contrib/learn/python/learn/datasets/mnist.py:110: dense_to_one_hot (from tensorflow.contrib.learn.python.learn.datasets.mnist) is deprecated and will be removed in a future version.\n",
      "Instructions for updating:\n",
      "Please use tf.one_hot on tensors.\n",
      "Extracting MNIST_data/t10k-images-idx3-ubyte.gz\n",
      "Extracting MNIST_data/t10k-labels-idx1-ubyte.gz\n",
      "WARNING:tensorflow:From /Users/KDV/anaconda3/lib/python3.6/site-packages/tensorflow/contrib/learn/python/learn/datasets/mnist.py:290: DataSet.__init__ (from tensorflow.contrib.learn.python.learn.datasets.mnist) is deprecated and will be removed in a future version.\n",
      "Instructions for updating:\n",
      "Please use alternatives such as official/mnist/dataset.py from tensorflow/models.\n"
     ]
    }
   ],
   "source": [
    "from tensorflow.examples.tutorials.mnist import input_data\n",
    "mnist = input_data.read_data_sets('MNIST_data', one_hot=True)"
   ]
  },
  {
   "cell_type": "markdown",
   "metadata": {},
   "source": [
    "### Helper Functions"
   ]
  },
  {
   "cell_type": "code",
   "execution_count": 3,
   "metadata": {},
   "outputs": [],
   "source": [
    "def variables_from_scope(scope_name):\n",
    "    return tf.get_collection(tf.GraphKeys.GLOBAL_VARIABLES, scope=scope_name)\n",
    "\n",
    "def visualize_row(images, img_width=28, cmap='gray'):\n",
    "    im = np.reshape(images, [-1, img_width])\n",
    "    plt.figure()\n",
    "    plt.imshow(im, cmap=cmap)\n",
    "    plt.show()"
   ]
  },
  {
   "cell_type": "markdown",
   "metadata": {},
   "source": [
    "### Hyperparameters"
   ]
  },
  {
   "cell_type": "code",
   "execution_count": 4,
   "metadata": {},
   "outputs": [],
   "source": [
    "# Graph parameters\n",
    "epsilon_dim = 42\n",
    "hidden_dim = 256\n",
    "image_size = 784\n",
    "\n",
    "# Training parameters\n",
    "batch_size = 50\n",
    "iterations = 25000"
   ]
  },
  {
   "cell_type": "markdown",
   "metadata": {},
   "source": [
    "### Generator"
   ]
  },
  {
   "cell_type": "code",
   "execution_count": 5,
   "metadata": {},
   "outputs": [],
   "source": [
    "# Generator\n",
    "def generator(epsilon):\n",
    "    hidden_layer = tf.layers.dense(epsilon, hidden_dim, activation=tf.nn.relu)\n",
    "    out_layer = tf.layers.dense(hidden_layer, image_size, activation=tf.sigmoid)\n",
    "    return out_layer # fake image generated"
   ]
  },
  {
   "cell_type": "markdown",
   "metadata": {},
   "source": [
    "### Discriminator"
   ]
  },
  {
   "cell_type": "code",
   "execution_count": 6,
   "metadata": {},
   "outputs": [],
   "source": [
    "def discriminator(images):\n",
    "    hidden_layer = tf.layers.dense(images, hidden_dim, name=\"D1\", activation=tf.nn.relu)\n",
    "    out_layer = tf.layers.dense(hidden_layer, 1, name=\"D2\", activation=tf.sigmoid)\n",
    "    return out_layer"
   ]
  },
  {
   "cell_type": "markdown",
   "metadata": {},
   "source": [
    "### Building the Graph"
   ]
  },
  {
   "cell_type": "code",
   "execution_count": 7,
   "metadata": {},
   "outputs": [],
   "source": [
    "tf.reset_default_graph()\n",
    "\n",
    "# Placeholders\n",
    "inputs_g = tf.placeholder(tf.float32, [None, epsilon_dim])\n",
    "inputs_d = tf.placeholder(tf.float32, [None, image_size])\n",
    "\n",
    "# Generator\n",
    "with tf.variable_scope(\"generator\") as scope:\n",
    "    gen_image = generator(inputs_g)\n",
    "\n",
    "# Discriminator\n",
    "with tf.variable_scope(\"discriminator\") as scope:\n",
    "    d_fake = discriminator(gen_image)\n",
    "    scope.reuse_variables()\n",
    "    d_real = discriminator(inputs_d)\n",
    "\n",
    "g_loss = -tf.reduce_mean(tf.log(d_fake))\n",
    "d_loss = -tf.reduce_mean(tf.log(d_real) + tf.log(1. - d_fake))\n",
    "\n",
    "optimize_g = tf.train.AdamOptimizer().minimize(g_loss, var_list=variables_from_scope(\"generator\"))\n",
    "optimize_d = tf.train.AdamOptimizer().minimize(d_loss, var_list=variables_from_scope(\"discriminator\"))\n",
    "\n",
    "initialize_all = tf.global_variables_initializer()"
   ]
  },
  {
   "cell_type": "code",
   "execution_count": 8,
   "metadata": {},
   "outputs": [],
   "source": [
    "# Train the GAN.\n",
    "def make_noise():\n",
    "    return np.random.uniform(-1.0, 1.0, [batch_size, epsilon_dim])\n",
    "\n",
    "def next_feed_dict():\n",
    "    return {inputs_d: mnist.train.next_batch(batch_size)[0],\n",
    "            inputs_g: make_noise()}\n",
    "\n",
    "sess = tf.Session()\n",
    "sess.run(initialize_all)\n",
    "\n",
    "start_time = time.time()\n",
    "for t in range(iterations):\n",
    "    _, _, loss, fake_data = sess.run([optimize_g, optimize_d, d_loss, gen_image], feed_dict=next_feed_dict())"
   ]
  },
  {
   "cell_type": "code",
   "execution_count": 9,
   "metadata": {},
   "outputs": [
    {
     "data": {
      "image/png": "[encoded data removed]",
      "text/plain": [
       "<Figure size 432x432 with 1 Axes>"
      ]
     },
     "metadata": {},
     "output_type": "display_data"
    }
   ],
   "source": [
    "# Testing\n",
    "# Generate images from noise, using the generator network.\n",
    "n = 6\n",
    "canvas = np.empty((28 * n, 28 * n))\n",
    "for i in range(n):\n",
    "    # Noise input.\n",
    "    z = np.random.uniform(-1., 1., size=[n, epsilon_dim])\n",
    "    # Generate image from noise.\n",
    "    g = sess.run(gen_image, feed_dict={inputs_g: z})\n",
    "    # Reverse colours for better display\n",
    "    g = -1 * (g - 1)\n",
    "    for j in range(n):\n",
    "        # Draw the generated digits\n",
    "        canvas[i * 28:(i + 1) * 28, j * 28:(j + 1) * 28] = g[j].reshape([28, 28])\n",
    "\n",
    "plt.figure(figsize=(n, n))\n",
    "plt.imshow(canvas, origin=\"upper\", cmap=\"gray\")\n",
    "plt.show()"
   ]
  },
  {
   "cell_type": "code",
   "execution_count": 19,
   "metadata": {},
   "outputs": [
    {
     "data": {
      "image/png": "[encoded data removed]",
      "text/plain": [
       "<Figure size 432x288 with 1 Axes>"
      ]
     },
     "metadata": {},
     "output_type": "display_data"
    },
    {
     "data": {
      "image/png": "[encoded data removed]",
      "text/plain": [
       "<Figure size 432x288 with 1 Axes>"
      ]
     },
     "metadata": {},
     "output_type": "display_data"
    }
   ],
   "source": [
    "z = np.random.uniform(-1., 1., size=[10, epsilon_dim])\n",
    "z_single = np.random.uniform(-1., 1., size=[1, epsilon_dim])\n",
    "g = sess.run(gen_image, feed_dict={inputs_g: z})\n",
    "\n",
    "start = z[0]\n",
    "end = z[2]\n",
    "z_range = end-start\n",
    "z_single[0] = z_range\n",
    "\n",
    "for i in range(10):\n",
    "    z[i] = i*(.1*z_range)\n",
    "\n",
    "g_1 = sess.run(gen_image, feed_dict={inputs_g: z_single})\n",
    "g_2 = sess.run(gen_image, feed_dict={inputs_g: z})\n",
    "\n",
    "g_1 = -1 * (g_1 - 1)\n",
    "g_2 = -1 * (g_2 - 1)\n",
    "\n",
    "visualize_row(g_1)\n",
    "visualize_row(g_2[:10])"
   ]
  }
 ],
 "metadata": {
  "kernelspec": {
   "display_name": "Python 3",
   "language": "python",
   "name": "python3"
  },
  "language_info": {
   "codemirror_mode": {
    "name": "ipython",
    "version": 3
   },
   "file_extension": ".py",
   "mimetype": "text/x-python",
   "name": "python",
   "nbconvert_exporter": "python",
   "pygments_lexer": "ipython3",
   "version": "3.6.5"
  }
 },
 "nbformat": 4,
 "nbformat_minor": 2
}
